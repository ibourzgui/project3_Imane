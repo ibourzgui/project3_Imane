{
 "cells": [
  {
   "cell_type": "code",
   "execution_count": 37,
   "metadata": {},
   "outputs": [],
   "source": [
    "%matplotlib inline\n",
    "import matplotlib.pyplot as plt\n",
    "import numpy as np\n",
    "import pandas as pd\n"
   ]
  },
  {
   "cell_type": "code",
   "execution_count": 38,
   "metadata": {},
   "outputs": [
    {
     "data": {
      "text/html": [
       "<div>\n",
       "<style scoped>\n",
       "    .dataframe tbody tr th:only-of-type {\n",
       "        vertical-align: middle;\n",
       "    }\n",
       "\n",
       "    .dataframe tbody tr th {\n",
       "        vertical-align: top;\n",
       "    }\n",
       "\n",
       "    .dataframe thead th {\n",
       "        text-align: right;\n",
       "    }\n",
       "</style>\n",
       "<table border=\"1\" class=\"dataframe\">\n",
       "  <thead>\n",
       "    <tr style=\"text-align: right;\">\n",
       "      <th></th>\n",
       "      <th>Unnamed: 0</th>\n",
       "      <th>PLAYER</th>\n",
       "      <th>GP</th>\n",
       "      <th>G</th>\n",
       "      <th>A</th>\n",
       "      <th>PTS</th>\n",
       "      <th>+/-</th>\n",
       "      <th>TOI/G</th>\n",
       "      <th>SHFT</th>\n",
       "      <th>SHFT/G</th>\n",
       "      <th>PROD</th>\n",
       "      <th>POSITION</th>\n",
       "      <th>HEIGHT</th>\n",
       "      <th>WEIGHT</th>\n",
       "      <th>AGE</th>\n",
       "      <th>INJURY COUNT</th>\n",
       "      <th>GAMES MISSED</th>\n",
       "      <th>INJURY TYPE</th>\n",
       "      <th>TEAM</th>\n",
       "    </tr>\n",
       "  </thead>\n",
       "  <tbody>\n",
       "    <tr>\n",
       "      <th>0</th>\n",
       "      <td>0</td>\n",
       "      <td>Abdelkader Justin</td>\n",
       "      <td>71</td>\n",
       "      <td>6</td>\n",
       "      <td>13</td>\n",
       "      <td>19</td>\n",
       "      <td>-14</td>\n",
       "      <td>15.400000</td>\n",
       "      <td>1465</td>\n",
       "      <td>20.6</td>\n",
       "      <td>57:32:00</td>\n",
       "      <td>LW</td>\n",
       "      <td>6'2\"</td>\n",
       "      <td>214</td>\n",
       "      <td>32</td>\n",
       "      <td>1</td>\n",
       "      <td>11</td>\n",
       "      <td>Leg</td>\n",
       "      <td>Detroit</td>\n",
       "    </tr>\n",
       "    <tr>\n",
       "      <th>1</th>\n",
       "      <td>1</td>\n",
       "      <td>Aberg Pontus</td>\n",
       "      <td>59</td>\n",
       "      <td>12</td>\n",
       "      <td>13</td>\n",
       "      <td>25</td>\n",
       "      <td>-14</td>\n",
       "      <td>14.600000</td>\n",
       "      <td>1107</td>\n",
       "      <td>18.8</td>\n",
       "      <td>34:26:00</td>\n",
       "      <td>LW</td>\n",
       "      <td>5'11\"</td>\n",
       "      <td>196</td>\n",
       "      <td>25</td>\n",
       "      <td>1</td>\n",
       "      <td>8</td>\n",
       "      <td>Lower body</td>\n",
       "      <td>Minnesota</td>\n",
       "    </tr>\n",
       "    <tr>\n",
       "      <th>2</th>\n",
       "      <td>2</td>\n",
       "      <td>Anderson Joey</td>\n",
       "      <td>34</td>\n",
       "      <td>4</td>\n",
       "      <td>3</td>\n",
       "      <td>7</td>\n",
       "      <td>-7</td>\n",
       "      <td>12.900000</td>\n",
       "      <td>582</td>\n",
       "      <td>17.1</td>\n",
       "      <td>62:39:00</td>\n",
       "      <td>RW</td>\n",
       "      <td>5'11\"</td>\n",
       "      <td>190</td>\n",
       "      <td>21</td>\n",
       "      <td>1</td>\n",
       "      <td>33</td>\n",
       "      <td>Ankle</td>\n",
       "      <td>New Jersey</td>\n",
       "    </tr>\n",
       "    <tr>\n",
       "      <th>3</th>\n",
       "      <td>3</td>\n",
       "      <td>Andrighetto Sven</td>\n",
       "      <td>64</td>\n",
       "      <td>7</td>\n",
       "      <td>10</td>\n",
       "      <td>17</td>\n",
       "      <td>10</td>\n",
       "      <td>11.066667</td>\n",
       "      <td>930</td>\n",
       "      <td>14.5</td>\n",
       "      <td>41:40:00</td>\n",
       "      <td>RW</td>\n",
       "      <td>5'10\"</td>\n",
       "      <td>188</td>\n",
       "      <td>26</td>\n",
       "      <td>1</td>\n",
       "      <td>6</td>\n",
       "      <td>Lower body</td>\n",
       "      <td>Colorado</td>\n",
       "    </tr>\n",
       "    <tr>\n",
       "      <th>4</th>\n",
       "      <td>4</td>\n",
       "      <td>Anisimov Artem</td>\n",
       "      <td>78</td>\n",
       "      <td>15</td>\n",
       "      <td>22</td>\n",
       "      <td>37</td>\n",
       "      <td>-2</td>\n",
       "      <td>16.350000</td>\n",
       "      <td>1611</td>\n",
       "      <td>20.7</td>\n",
       "      <td>34:27:00</td>\n",
       "      <td>C</td>\n",
       "      <td>6'4\"</td>\n",
       "      <td>198</td>\n",
       "      <td>31</td>\n",
       "      <td>1</td>\n",
       "      <td>4</td>\n",
       "      <td>Concussion</td>\n",
       "      <td>Chicago</td>\n",
       "    </tr>\n",
       "  </tbody>\n",
       "</table>\n",
       "</div>"
      ],
      "text/plain": [
       "   Unnamed: 0             PLAYER  GP   G   A  PTS  +/-      TOI/G  SHFT  \\\n",
       "0           0  Abdelkader Justin  71   6  13   19  -14  15.400000  1465   \n",
       "1           1       Aberg Pontus  59  12  13   25  -14  14.600000  1107   \n",
       "2           2      Anderson Joey  34   4   3    7   -7  12.900000   582   \n",
       "3           3   Andrighetto Sven  64   7  10   17   10  11.066667   930   \n",
       "4           4     Anisimov Artem  78  15  22   37   -2  16.350000  1611   \n",
       "\n",
       "   SHFT/G      PROD POSITION HEIGHT  WEIGHT  AGE  INJURY COUNT  GAMES MISSED  \\\n",
       "0    20.6  57:32:00       LW   6'2\"     214   32             1            11   \n",
       "1    18.8  34:26:00       LW  5'11\"     196   25             1             8   \n",
       "2    17.1  62:39:00       RW  5'11\"     190   21             1            33   \n",
       "3    14.5  41:40:00       RW  5'10\"     188   26             1             6   \n",
       "4    20.7  34:27:00        C   6'4\"     198   31             1             4   \n",
       "\n",
       "  INJURY TYPE        TEAM  \n",
       "0         Leg     Detroit  \n",
       "1  Lower body   Minnesota  \n",
       "2       Ankle  New Jersey  \n",
       "3  Lower body    Colorado  \n",
       "4  Concussion     Chicago  "
      ]
     },
     "execution_count": 38,
     "metadata": {},
     "output_type": "execute_result"
    }
   ],
   "source": [
    "NHL = pd.read_csv('NHL_alldata.csv')\n",
    "NHL\n",
    "# NHL.columns\n"
   ]
  },
  {
   "cell_type": "code",
   "execution_count": 53,
   "metadata": {},
   "outputs": [
    {
     "name": "stdout",
     "output_type": "stream",
     "text": [
      "Shape:  (597, 1) (597, 1)\n"
     ]
    }
   ],
   "source": [
    "# Assign the data to X and y\n",
    "# Note: Sklearn requires a two-dimensional array of values\n",
    "# so we use reshape to create this\n",
    "\n",
    "X = NHL[\"AGE\"].values.reshape(-1, 1)\n",
    "y = NHL[\"INJURY COUNT\"].values.reshape(-1, 1)\n",
    "\n",
    "print(\"Shape: \", X.shape, y.shape)"
   ]
  },
  {
   "cell_type": "code",
   "execution_count": 54,
   "metadata": {},
   "outputs": [
    {
     "data": {
      "text/plain": [
       "Text(0, 0.5, 'INJURY COUNT')"
      ]
     },
     "execution_count": 54,
     "metadata": {},
     "output_type": "execute_result"
    },
    {
     "data": {
      "image/png": "[encoded data removed]",
      "text/plain": [
       "<Figure size 432x288 with 1 Axes>"
      ]
     },
     "metadata": {
      "needs_background": "light"
     },
     "output_type": "display_data"
    }
   ],
   "source": [
    "# Plot the data to see if a linear trend exists\n",
    "\n",
    "### BEGIN SOLUTION\n",
    "plt.scatter(X, y)\n",
    "plt.xlabel(\"AGE\")\n",
    "plt.ylabel(\"INJURY COUNT\")\n",
    "### END SOLUTION"
   ]
  },
  {
   "cell_type": "code",
   "execution_count": 55,
   "metadata": {},
   "outputs": [],
   "source": [
    "# Use sklearn's `train_test_split` to split the data into training and testing\n",
    "\n",
    "from sklearn.model_selection import train_test_split\n",
    "\n",
    "### BEGIN SOLUTION\n",
    "\n",
    "X_train, X_test, y_train, y_test = train_test_split(X, y, random_state=42)\n",
    "\n",
    "### END SOLUTION"
   ]
  },
  {
   "cell_type": "code",
   "execution_count": 56,
   "metadata": {},
   "outputs": [],
   "source": [
    "# Create the model\n",
    "\n",
    "### BEGIN SOLUTION\n",
    "\n",
    "from sklearn.linear_model import LinearRegression\n",
    "\n",
    "model = LinearRegression()\n",
    "\n",
    "### END SOLUTION"
   ]
  },
  {
   "cell_type": "code",
   "execution_count": 57,
   "metadata": {},
   "outputs": [
    {
     "data": {
      "text/plain": [
       "LinearRegression(copy_X=True, fit_intercept=True, n_jobs=None,\n",
       "         normalize=False)"
      ]
     },
     "execution_count": 57,
     "metadata": {},
     "output_type": "execute_result"
    }
   ],
   "source": [
    "# Fit the model to the training data. \n",
    "\n",
    "### BEGIN SOLUTION\n",
    "\n",
    "model.fit(X_train, y_train)\n",
    "\n",
    "### END SOLUTION"
   ]
  },
  {
   "cell_type": "code",
   "execution_count": 58,
   "metadata": {},
   "outputs": [
    {
     "name": "stdout",
     "output_type": "stream",
     "text": [
      "Mean Squared Error (MSE): 1.072228816971138\n",
      "R-squared (R2 ): -0.10160494894294958\n"
     ]
    }
   ],
   "source": [
    "# Calculate the mean_squared_error and the r-squared value\n",
    "# for the testing data\n",
    "\n",
    "from sklearn.metrics import mean_squared_error, r2_score\n",
    "\n",
    "### BEGIN SOLUTION\n",
    "\n",
    "# Use our model to make predictions\n",
    "predicted = model.predict(X_test)\n",
    "\n",
    "# Score the predictions with mse and r2\n",
    "mse = mean_squared_error(y_test, predicted)\n",
    "r2 = r2_score(y_test, predicted)\n",
    "\n",
    "print(f\"Mean Squared Error (MSE): {mse}\")\n",
    "print(f\"R-squared (R2 ): {r2}\")\n",
    "\n",
    "### END SOLUTION"
   ]
  },
  {
   "cell_type": "code",
   "execution_count": 59,
   "metadata": {},
   "outputs": [
    {
     "data": {
      "text/plain": [
       "-0.10160494894294958"
      ]
     },
     "execution_count": 59,
     "metadata": {},
     "output_type": "execute_result"
    }
   ],
   "source": [
    "# Call the `score` method on the model to show the r2 score\n",
    "\n",
    "### BEGIN SOLUTION\n",
    "model.score(X_test, y_test)\n",
    "### END SOLUTION"
   ]
  },
  {
   "cell_type": "code",
   "execution_count": null,
   "metadata": {},
   "outputs": [],
   "source": []
  }
 ],
 "metadata": {
  "kernelspec": {
   "display_name": "Python 3",
   "language": "python",
   "name": "python3"
  },
  "language_info": {
   "codemirror_mode": {
    "name": "ipython",
    "version": 3
   },
   "file_extension": ".py",
   "mimetype": "text/x-python",
   "name": "python",
   "nbconvert_exporter": "python",
   "pygments_lexer": "ipython3",
   "version": "3.7.1"
  }
 },
 "nbformat": 4,
 "nbformat_minor": 2
}
